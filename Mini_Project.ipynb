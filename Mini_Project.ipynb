{
  "nbformat": 4,
  "nbformat_minor": 0,
  "metadata": {
    "colab": {
      "name": "Mini Project.ipynb",
      "provenance": [],
      "collapsed_sections": [],
      "mount_file_id": "1VvXUk19K31b3XYZzDBtBJ3TlBTNki3lz",
      "authorship_tag": "ABX9TyOljRdY2j6B3zkvauJJp6qx",
      "include_colab_link": true
    },
    "kernelspec": {
      "name": "python3",
      "display_name": "Python 3"
    }
  },
  "cells": [
    {
      "cell_type": "markdown",
      "metadata": {
        "id": "view-in-github",
        "colab_type": "text"
      },
      "source": [
        "<a href=\"https://colab.research.google.com/github/Elsa-Paul1/Mini-Project-Image-Classification/blob/master/Mini_Project.ipynb\" target=\"_parent\"><img src=\"https://colab.research.google.com/assets/colab-badge.svg\" alt=\"Open In Colab\"/></a>"
      ]
    },
    {
      "cell_type": "code",
      "metadata": {
        "id": "5SBdoRigykRS",
        "colab_type": "code",
        "colab": {
          "base_uri": "https://localhost:8080/",
          "height": 34
        },
        "outputId": "1da212aa-473f-490a-ee6d-7a38f14f2441"
      },
      "source": [
        "!ls\n"
      ],
      "execution_count": 1,
      "outputs": [
        {
          "output_type": "stream",
          "text": [
            "drive  sample_data\n"
          ],
          "name": "stdout"
        }
      ]
    },
    {
      "cell_type": "code",
      "metadata": {
        "id": "cqJ_Z8N4zJXA",
        "colab_type": "code",
        "colab": {
          "base_uri": "https://localhost:8080/",
          "height": 34
        },
        "outputId": "b97398bf-7757-40d8-c3d1-33a11d509d53"
      },
      "source": [
        "cd '/content/drive/My Drive'"
      ],
      "execution_count": 69,
      "outputs": [
        {
          "output_type": "stream",
          "text": [
            "/content/drive/My Drive\n"
          ],
          "name": "stdout"
        }
      ]
    },
    {
      "cell_type": "code",
      "metadata": {
        "id": "-ITsXNP4zg-8",
        "colab_type": "code",
        "colab": {}
      },
      "source": [
        "!mkdir images"
      ],
      "execution_count": 3,
      "outputs": []
    },
    {
      "cell_type": "code",
      "metadata": {
        "id": "ql9xuRi1zr7C",
        "colab_type": "code",
        "colab": {
          "base_uri": "https://localhost:8080/",
          "height": 34
        },
        "outputId": "2fdccdab-50e8-4256-b021-f3811a695942"
      },
      "source": [
        "cd images"
      ],
      "execution_count": 70,
      "outputs": [
        {
          "output_type": "stream",
          "text": [
            "/content/drive/My Drive/images\n"
          ],
          "name": "stdout"
        }
      ]
    },
    {
      "cell_type": "code",
      "metadata": {
        "id": "OlMQOWADzwVp",
        "colab_type": "code",
        "colab": {
          "base_uri": "https://localhost:8080/",
          "height": 34
        },
        "outputId": "6851367d-5f4c-4bd5-ff51-2e39fdfa00cc"
      },
      "source": [
        "!pip install bing-image-downloader"
      ],
      "execution_count": 71,
      "outputs": [
        {
          "output_type": "stream",
          "text": [
            "Requirement already satisfied: bing-image-downloader in /usr/local/lib/python3.6/dist-packages (1.0.4)\n"
          ],
          "name": "stdout"
        }
      ]
    },
    {
      "cell_type": "markdown",
      "metadata": {
        "id": "4uJrFvMG0gLG",
        "colab_type": "text"
      },
      "source": [
        "**DATA GATHERING**"
      ]
    },
    {
      "cell_type": "code",
      "metadata": {
        "id": "Y9-lK4KYz1c8",
        "colab_type": "code",
        "colab": {
          "base_uri": "https://localhost:8080/",
          "height": 1000
        },
        "outputId": "f1706fdd-4a31-4657-f37a-a4918890e53b"
      },
      "source": [
        "from bing_image_downloader import downloader\n",
        "downloader.download('motorcycle',limit=30,output_dir='images')"
      ],
      "execution_count": 72,
      "outputs": [
        {
          "output_type": "stream",
          "text": [
            "\n",
            "\n",
            "[!!]Indexing page: 1\n",
            "\n",
            "[%] Indexed 30 Images on Page 1.\n",
            "\n",
            "===============================================\n",
            "\n",
            "[%] Downloading Image #1 from https://i.ytimg.com/vi/dzFzcWe6pH8/maxresdefault.jpg\n",
            "[%] File Downloaded !\n",
            "\n",
            "[%] Downloading Image #2 from https://i.ytimg.com/vi/12_FzD1CVRw/maxresdefault.jpg\n",
            "[%] File Downloaded !\n",
            "\n",
            "[%] Downloading Image #3 from https://upload.wikimedia.org/wikipedia/commons/thumb/f/ff/Honda_CB750four_blue.jpg/1200px-Honda_CB750four_blue.jpg\n",
            "[%] File Downloaded !\n",
            "\n",
            "[%] Downloading Image #4 from https://upload.wikimedia.org/wikipedia/commons/thumb/d/d9/Triton_Norton-Triumph_motorcycle_with_polished_frame_and_tank.jpg/1200px-Triton_Norton-Triumph_motorcycle_with_polished_frame_and_tank.jpg\n",
            "[%] File Downloaded !\n",
            "\n",
            "[%] Downloading Image #5 from https://upload.wikimedia.org/wikipedia/commons/thumb/f/f3/Минск_М1А.jpg/1920px-Минск_М1А.jpg\n",
            "[!] Issue getting: https://upload.wikimedia.org/wikipedia/commons/thumb/f/f3/Минск_М1А.jpg/1920px-Минск_М1А.jpg\n",
            "[!] Error:: 'ascii' codec can't encode characters in position 34-38: ordinal not in range(128)\n",
            "[%] Downloading Image #5 from https://i.ytimg.com/vi/jS3YZ-9LaRI/maxresdefault.jpg\n",
            "[%] File Downloaded !\n",
            "\n",
            "[%] Downloading Image #6 from https://i.ytimg.com/vi/263dphzI9ng/maxresdefault.jpg\n",
            "[%] File Downloaded !\n",
            "\n",
            "[%] Downloading Image #7 from https://i.ytimg.com/vi/RS0bQprbd9c/maxresdefault.jpg\n",
            "[%] File Downloaded !\n",
            "\n",
            "[%] Downloading Image #8 from https://i.ytimg.com/vi/rtddMHKMCp4/maxresdefault.jpg\n",
            "[%] File Downloaded !\n",
            "\n",
            "[%] Downloading Image #9 from https://i.ytimg.com/vi/My-JoBJJ-YU/maxresdefault.jpg\n",
            "[%] File Downloaded !\n",
            "\n",
            "[%] Downloading Image #10 from https://i.ytimg.com/vi/oSAvdWyoUlU/maxresdefault.jpg\n",
            "[%] File Downloaded !\n",
            "\n",
            "[%] Downloading Image #11 from https://i.ytimg.com/vi/kRbiphwTkqw/maxresdefault.jpg\n",
            "[%] File Downloaded !\n",
            "\n",
            "[%] Downloading Image #12 from https://i.ytimg.com/vi/Eob8Yj5TFiw/maxresdefault.jpg\n",
            "[%] File Downloaded !\n",
            "\n",
            "[%] Downloading Image #13 from https://upload.wikimedia.org/wikipedia/commons/thumb/2/2e/OSSA_150_%281958%29_motorcycle_20120213.jpg/1200px-OSSA_150_%281958%29_motorcycle_20120213.jpg\n",
            "[%] File Downloaded !\n",
            "\n",
            "[%] Downloading Image #14 from https://upload.wikimedia.org/wikipedia/commons/1/13/K1200gt.jpg\n",
            "[%] File Downloaded !\n",
            "\n",
            "[%] Downloading Image #15 from https://upload.wikimedia.org/wikipedia/commons/e/ed/Dnepr.JPG\n",
            "[%] File Downloaded !\n",
            "\n",
            "[%] Downloading Image #16 from https://i.ytimg.com/vi/wId_wT2JqRQ/maxresdefault.jpg\n",
            "[%] File Downloaded !\n",
            "\n",
            "[%] Downloading Image #17 from https://i.ytimg.com/vi/yx-7zfVZ1wo/hqdefault.jpg\n",
            "[%] File Downloaded !\n",
            "\n",
            "[%] Downloading Image #18 from https://i.pinimg.com/736x/62/fc/01/62fc01e94b3bb8d98f82288313824784--motorbike-girl-motorcycle-girls.jpg?b=t\n",
            "[%] File Downloaded !\n",
            "\n",
            "[%] Downloading Image #19 from https://i.ytimg.com/vi/jQC0NEd0QkA/hqdefault.jpg\n",
            "[%] File Downloaded !\n",
            "\n",
            "[%] Downloading Image #20 from https://i.ytimg.com/vi/7ee05QLXL1g/hqdefault.jpg\n",
            "[%] File Downloaded !\n",
            "\n",
            "[%] Downloading Image #21 from https://i.ytimg.com/vi/aPWRJycyiv0/maxresdefault.jpg\n",
            "[%] File Downloaded !\n",
            "\n",
            "[%] Downloading Image #22 from https://i.ytimg.com/vi/1vxRfa-yMe4/maxresdefault.jpg\n",
            "[%] File Downloaded !\n",
            "\n",
            "[%] Downloading Image #23 from https://i.ytimg.com/vi/LC74h5CTQS0/maxresdefault.jpg\n",
            "[%] File Downloaded !\n",
            "\n",
            "[%] Downloading Image #24 from https://i.ytimg.com/vi/FsYwa-nRxkI/maxresdefault.jpg\n",
            "[%] File Downloaded !\n",
            "\n",
            "[%] Downloading Image #25 from https://upload.wikimedia.org/wikipedia/commons/thumb/b/ba/Nimbus.jpg/1200px-Nimbus.jpg\n",
            "[%] File Downloaded !\n",
            "\n",
            "[%] Downloading Image #26 from https://upload.wikimedia.org/wikipedia/commons/d/d8/CustomBike.jpg\n",
            "[%] File Downloaded !\n",
            "\n",
            "[%] Downloading Image #27 from https://i.ytimg.com/vi/yp37BDvDwGQ/hqdefault.jpg\n",
            "[%] File Downloaded !\n",
            "\n",
            "[%] Downloading Image #28 from https://i.ytimg.com/vi/F8moSYrdUFc/hqdefault.jpg\n",
            "[%] File Downloaded !\n",
            "\n",
            "[%] Downloading Image #29 from https://i.ytimg.com/vi/kFFEOtmHTqQ/maxresdefault.jpg\n",
            "[%] File Downloaded !\n",
            "\n",
            "\n",
            "\n",
            "[!!]Indexing page: 2\n",
            "\n",
            "[%] Indexed 35 Images on Page 2.\n",
            "\n",
            "===============================================\n",
            "\n",
            "[%] Downloading Image #30 from https://i.ytimg.com/vi/dzFzcWe6pH8/maxresdefault.jpg\n",
            "[%] File Downloaded !\n",
            "\n",
            "\n",
            "\n",
            "[%] Done. Downloaded 30 images.\n",
            "\n",
            "===============================================\n",
            "\n"
          ],
          "name": "stdout"
        }
      ]
    },
    {
      "cell_type": "code",
      "metadata": {
        "id": "3UOX0EF9z6Zy",
        "colab_type": "code",
        "colab": {
          "base_uri": "https://localhost:8080/",
          "height": 1000
        },
        "outputId": "e2148f73-04b2-49d7-b96e-a2018407da3b"
      },
      "source": [
        "from bing_image_downloader import downloader\n",
        "downloader.download('car',limit=30,output_dir='images')"
      ],
      "execution_count": 73,
      "outputs": [
        {
          "output_type": "stream",
          "text": [
            "\n",
            "\n",
            "[!!]Indexing page: 1\n",
            "\n",
            "[%] Indexed 30 Images on Page 1.\n",
            "\n",
            "===============================================\n",
            "\n",
            "[%] Downloading Image #1 from https://i.ytimg.com/vi/TObBn68uRSA/maxresdefault.jpg\n",
            "[%] File Downloaded !\n",
            "\n",
            "[%] Downloading Image #2 from https://i.ytimg.com/vi/uFf1j4c70s8/maxresdefault.jpg\n",
            "[%] File Downloaded !\n",
            "\n",
            "[%] Downloading Image #3 from https://i.ytimg.com/vi/moFQhZ0_-TU/maxresdefault.jpg\n",
            "[%] File Downloaded !\n",
            "\n",
            "[%] Downloading Image #4 from https://www.topgear.com/sites/default/files/styles/16x9_1280w/public/images/gallery-migration/2015-06/5289C724-F9DB-4108-83FE-421AB36AC3E1.jpg?itok=zexfafqi\n",
            "[!] Issue getting: https://www.topgear.com/sites/default/files/styles/16x9_1280w/public/images/gallery-migration/2015-06/5289C724-F9DB-4108-83FE-421AB36AC3E1.jpg?itok=zexfafqi\n",
            "[!] Error:: HTTP Error 403: Forbidden\n",
            "[%] Downloading Image #4 from https://www.trbimg.com/img-57c049f1/turbine/ct-history-worlds-fastest-cars-under-200000-20160825\n",
            "[%] File Downloaded !\n",
            "\n",
            "[%] Downloading Image #5 from https://i.ytimg.com/vi/kEZhvxOmtD8/maxresdefault.jpg\n",
            "[%] File Downloaded !\n",
            "\n",
            "[%] Downloading Image #6 from https://i.ytimg.com/vi/4MtzH6Xg0gc/maxresdefault.jpg\n",
            "[%] File Downloaded !\n",
            "\n",
            "[%] Downloading Image #7 from https://i.ytimg.com/vi/TzcS7Mcq2oA/maxresdefault.jpg\n",
            "[%] File Downloaded !\n",
            "\n",
            "[%] Downloading Image #8 from https://i.ytimg.com/vi/fVIbe8On3aA/hqdefault.jpg\n",
            "[%] File Downloaded !\n",
            "\n",
            "[%] Downloading Image #9 from https://i.ytimg.com/vi/S5JhDRHmDDE/maxresdefault.jpg\n",
            "[%] File Downloaded !\n",
            "\n",
            "[%] Downloading Image #10 from https://i.ytimg.com/vi/F8wCg5p64Rw/maxresdefault.jpg\n",
            "[%] File Downloaded !\n",
            "\n",
            "[%] Downloading Image #11 from https://i.ytimg.com/vi/pBYTnlP4yYs/maxresdefault.jpg\n",
            "[%] File Downloaded !\n",
            "\n",
            "[%] Downloading Image #12 from https://i.ytimg.com/vi/OMpXwDiQjeI/maxresdefault.jpg\n",
            "[%] File Downloaded !\n",
            "\n",
            "[%] Downloading Image #13 from https://i.ytimg.com/vi/YtOhsBFkUq0/maxresdefault.jpg\n",
            "[%] File Downloaded !\n",
            "\n",
            "[%] Downloading Image #14 from https://i.ytimg.com/vi/WIz99wGkYqI/maxresdefault.jpg\n",
            "[%] File Downloaded !\n",
            "\n",
            "[%] Downloading Image #15 from https://i.ytimg.com/vi/W2rCxPH3GK8/maxresdefault.jpg\n",
            "[%] File Downloaded !\n",
            "\n",
            "[%] Downloading Image #16 from https://i.ytimg.com/vi/Y4d1ozlN_Z8/hqdefault.jpg\n",
            "[%] File Downloaded !\n",
            "\n",
            "[%] Downloading Image #17 from https://i.ytimg.com/vi/QFY9eqFOSQo/maxresdefault.jpg\n",
            "[%] File Downloaded !\n",
            "\n",
            "[%] Downloading Image #18 from https://i.ytimg.com/vi/FSzCsfTyPao/maxresdefault.jpg\n",
            "[%] File Downloaded !\n",
            "\n",
            "[%] Downloading Image #19 from https://i.ytimg.com/vi/bvFwIlCeGbE/maxresdefault.jpg\n",
            "[%] File Downloaded !\n",
            "\n",
            "[%] Downloading Image #20 from http://4.bp.blogspot.com/-0FXKhhMfrBk/TyLToXSgmCI/AAAAAAAAAiw/ezNxXFiNn1s/s1600/LexusLF-AConceptsuperCar-913987.jpeg\n",
            "[%] File Downloaded !\n",
            "\n",
            "[%] Downloading Image #21 from https://i.ytimg.com/vi/Xxa-NlBqzxs/maxresdefault.jpg\n",
            "[%] File Downloaded !\n",
            "\n",
            "[%] Downloading Image #22 from https://i.ytimg.com/vi/DRu-BC9pqWw/maxresdefault.jpg\n",
            "[%] File Downloaded !\n",
            "\n",
            "[%] Downloading Image #23 from https://i.ytimg.com/vi/MYYX_FfxTP0/maxresdefault.jpg\n",
            "[%] File Downloaded !\n",
            "\n",
            "[%] Downloading Image #24 from https://i.ytimg.com/vi/jywoXlNYrWo/maxresdefault.jpg\n",
            "[%] File Downloaded !\n",
            "\n",
            "[%] Downloading Image #25 from https://i.ytimg.com/vi/tYGg1fIfuOY/maxresdefault.jpg\n",
            "[%] File Downloaded !\n",
            "\n",
            "[%] Downloading Image #26 from https://i.ytimg.com/vi/d2Gh1h1xal4/maxresdefault.jpg\n",
            "[%] File Downloaded !\n",
            "\n",
            "[%] Downloading Image #27 from https://i.ytimg.com/vi/vb5XzAvB2S8/maxresdefault.jpg\n",
            "[%] File Downloaded !\n",
            "\n",
            "[%] Downloading Image #28 from https://i.ytimg.com/vi/tiz7nfftZiw/maxresdefault.jpg\n",
            "[%] File Downloaded !\n",
            "\n",
            "[%] Downloading Image #29 from https://i.ytimg.com/vi/ghPalAMIQgI/hqdefault.jpg\n",
            "[%] File Downloaded !\n",
            "\n",
            "\n",
            "\n",
            "[!!]Indexing page: 2\n",
            "\n",
            "[%] Indexed 35 Images on Page 2.\n",
            "\n",
            "===============================================\n",
            "\n",
            "[%] Downloading Image #30 from https://i.ytimg.com/vi/TObBn68uRSA/maxresdefault.jpg\n",
            "[%] File Downloaded !\n",
            "\n",
            "\n",
            "\n",
            "[%] Done. Downloaded 30 images.\n",
            "\n",
            "===============================================\n",
            "\n"
          ],
          "name": "stdout"
        }
      ]
    },
    {
      "cell_type": "markdown",
      "metadata": {
        "id": "ziuwsWP40mcp",
        "colab_type": "text"
      },
      "source": [
        "**DATA PREPROCESSING**"
      ]
    },
    {
      "cell_type": "code",
      "metadata": {
        "id": "3A4GDq0p0N9W",
        "colab_type": "code",
        "colab": {}
      },
      "source": [
        "import os\n",
        "import numpy as np\n",
        "import pandas as pd\n",
        "from skimage.io import imread\n",
        "from skimage.transform import resize\n",
        "from sklearn.neighbors import KNeighborsClassifier\n",
        "from sklearn.model_selection import GridSearchCV\n",
        "from sklearn.model_selection import train_test_split\n",
        "from sklearn.metrics import accuracy_score,confusion_matrix,classification_report"
      ],
      "execution_count": 1,
      "outputs": []
    },
    {
      "cell_type": "code",
      "metadata": {
        "id": "7XAZpkVX0p7x",
        "colab_type": "code",
        "colab": {}
      },
      "source": [
        "target=[]\n",
        "flat_data=[]\n",
        "images=[]\n",
        "path='/content/drive/My Drive/images/images/'\n",
        "for  dirpath, dirnames, filenames in os.walk(path):\n",
        "  for filename in filenames:\n",
        "    category=dirpath.split('/')[-1]\n",
        "    target.append(category)\n",
        "    img=imread(f'{path}{category}/{filename}')\n",
        "    img_resize=resize(img,(50,50,3))\n",
        "    flat_data.append(img_resize.flatten())\n",
        "    images.append(img_resize)\n",
        "target=np.array(target)\n",
        "flat_data=np.array(flat_data)\n",
        "images=np.array(images)"
      ],
      "execution_count": 2,
      "outputs": []
    },
    {
      "cell_type": "code",
      "metadata": {
        "id": "igK5ZbLP0wGq",
        "colab_type": "code",
        "colab": {
          "base_uri": "https://localhost:8080/",
          "height": 253
        },
        "outputId": "09635a4f-81df-4cd1-fafb-5b0efb97ee4c"
      },
      "source": [
        "df=pd.DataFrame(flat_data)\n",
        "df['Vehicle']=target\n",
        "df.head()"
      ],
      "execution_count": 3,
      "outputs": [
        {
          "output_type": "execute_result",
          "data": {
            "text/html": [
              "<div>\n",
              "<style scoped>\n",
              "    .dataframe tbody tr th:only-of-type {\n",
              "        vertical-align: middle;\n",
              "    }\n",
              "\n",
              "    .dataframe tbody tr th {\n",
              "        vertical-align: top;\n",
              "    }\n",
              "\n",
              "    .dataframe thead th {\n",
              "        text-align: right;\n",
              "    }\n",
              "</style>\n",
              "<table border=\"1\" class=\"dataframe\">\n",
              "  <thead>\n",
              "    <tr style=\"text-align: right;\">\n",
              "      <th></th>\n",
              "      <th>0</th>\n",
              "      <th>1</th>\n",
              "      <th>2</th>\n",
              "      <th>3</th>\n",
              "      <th>4</th>\n",
              "      <th>5</th>\n",
              "      <th>6</th>\n",
              "      <th>7</th>\n",
              "      <th>8</th>\n",
              "      <th>9</th>\n",
              "      <th>10</th>\n",
              "      <th>11</th>\n",
              "      <th>12</th>\n",
              "      <th>13</th>\n",
              "      <th>14</th>\n",
              "      <th>15</th>\n",
              "      <th>16</th>\n",
              "      <th>17</th>\n",
              "      <th>18</th>\n",
              "      <th>19</th>\n",
              "      <th>20</th>\n",
              "      <th>21</th>\n",
              "      <th>22</th>\n",
              "      <th>23</th>\n",
              "      <th>24</th>\n",
              "      <th>25</th>\n",
              "      <th>26</th>\n",
              "      <th>27</th>\n",
              "      <th>28</th>\n",
              "      <th>29</th>\n",
              "      <th>30</th>\n",
              "      <th>31</th>\n",
              "      <th>32</th>\n",
              "      <th>33</th>\n",
              "      <th>34</th>\n",
              "      <th>35</th>\n",
              "      <th>36</th>\n",
              "      <th>37</th>\n",
              "      <th>38</th>\n",
              "      <th>39</th>\n",
              "      <th>...</th>\n",
              "      <th>7461</th>\n",
              "      <th>7462</th>\n",
              "      <th>7463</th>\n",
              "      <th>7464</th>\n",
              "      <th>7465</th>\n",
              "      <th>7466</th>\n",
              "      <th>7467</th>\n",
              "      <th>7468</th>\n",
              "      <th>7469</th>\n",
              "      <th>7470</th>\n",
              "      <th>7471</th>\n",
              "      <th>7472</th>\n",
              "      <th>7473</th>\n",
              "      <th>7474</th>\n",
              "      <th>7475</th>\n",
              "      <th>7476</th>\n",
              "      <th>7477</th>\n",
              "      <th>7478</th>\n",
              "      <th>7479</th>\n",
              "      <th>7480</th>\n",
              "      <th>7481</th>\n",
              "      <th>7482</th>\n",
              "      <th>7483</th>\n",
              "      <th>7484</th>\n",
              "      <th>7485</th>\n",
              "      <th>7486</th>\n",
              "      <th>7487</th>\n",
              "      <th>7488</th>\n",
              "      <th>7489</th>\n",
              "      <th>7490</th>\n",
              "      <th>7491</th>\n",
              "      <th>7492</th>\n",
              "      <th>7493</th>\n",
              "      <th>7494</th>\n",
              "      <th>7495</th>\n",
              "      <th>7496</th>\n",
              "      <th>7497</th>\n",
              "      <th>7498</th>\n",
              "      <th>7499</th>\n",
              "      <th>Vehicle</th>\n",
              "    </tr>\n",
              "  </thead>\n",
              "  <tbody>\n",
              "    <tr>\n",
              "      <th>0</th>\n",
              "      <td>0.090941</td>\n",
              "      <td>0.153333</td>\n",
              "      <td>0.149765</td>\n",
              "      <td>0.049804</td>\n",
              "      <td>0.089412</td>\n",
              "      <td>0.112667</td>\n",
              "      <td>0.060784</td>\n",
              "      <td>0.105882</td>\n",
              "      <td>0.141176</td>\n",
              "      <td>0.094118</td>\n",
              "      <td>0.149020</td>\n",
              "      <td>0.184314</td>\n",
              "      <td>0.082353</td>\n",
              "      <td>0.125137</td>\n",
              "      <td>0.167451</td>\n",
              "      <td>0.194078</td>\n",
              "      <td>0.258824</td>\n",
              "      <td>0.301137</td>\n",
              "      <td>0.132157</td>\n",
              "      <td>0.199216</td>\n",
              "      <td>0.200392</td>\n",
              "      <td>0.155686</td>\n",
              "      <td>0.229020</td>\n",
              "      <td>0.241961</td>\n",
              "      <td>0.092667</td>\n",
              "      <td>0.152824</td>\n",
              "      <td>0.163529</td>\n",
              "      <td>0.192902</td>\n",
              "      <td>0.150196</td>\n",
              "      <td>0.164706</td>\n",
              "      <td>0.427451</td>\n",
              "      <td>0.085098</td>\n",
              "      <td>0.132980</td>\n",
              "      <td>0.231373</td>\n",
              "      <td>0.082235</td>\n",
              "      <td>0.141059</td>\n",
              "      <td>0.056275</td>\n",
              "      <td>0.122941</td>\n",
              "      <td>0.176471</td>\n",
              "      <td>0.062745</td>\n",
              "      <td>...</td>\n",
              "      <td>0.858235</td>\n",
              "      <td>0.824902</td>\n",
              "      <td>0.687647</td>\n",
              "      <td>0.861686</td>\n",
              "      <td>0.812039</td>\n",
              "      <td>0.673451</td>\n",
              "      <td>0.868667</td>\n",
              "      <td>0.836471</td>\n",
              "      <td>0.712902</td>\n",
              "      <td>0.850157</td>\n",
              "      <td>0.827451</td>\n",
              "      <td>0.707059</td>\n",
              "      <td>0.835294</td>\n",
              "      <td>0.823529</td>\n",
              "      <td>0.709804</td>\n",
              "      <td>0.815686</td>\n",
              "      <td>0.815686</td>\n",
              "      <td>0.707059</td>\n",
              "      <td>0.823529</td>\n",
              "      <td>0.822353</td>\n",
              "      <td>0.705882</td>\n",
              "      <td>0.814510</td>\n",
              "      <td>0.814510</td>\n",
              "      <td>0.693294</td>\n",
              "      <td>0.811765</td>\n",
              "      <td>0.807843</td>\n",
              "      <td>0.682353</td>\n",
              "      <td>0.803922</td>\n",
              "      <td>0.823529</td>\n",
              "      <td>0.703137</td>\n",
              "      <td>0.792745</td>\n",
              "      <td>0.828627</td>\n",
              "      <td>0.709804</td>\n",
              "      <td>0.800000</td>\n",
              "      <td>0.830196</td>\n",
              "      <td>0.710078</td>\n",
              "      <td>0.780392</td>\n",
              "      <td>0.820784</td>\n",
              "      <td>0.721569</td>\n",
              "      <td>motorcycle</td>\n",
              "    </tr>\n",
              "    <tr>\n",
              "      <th>1</th>\n",
              "      <td>0.086275</td>\n",
              "      <td>0.278431</td>\n",
              "      <td>0.447059</td>\n",
              "      <td>0.087451</td>\n",
              "      <td>0.279608</td>\n",
              "      <td>0.456078</td>\n",
              "      <td>0.079608</td>\n",
              "      <td>0.283529</td>\n",
              "      <td>0.452157</td>\n",
              "      <td>0.048235</td>\n",
              "      <td>0.270314</td>\n",
              "      <td>0.443137</td>\n",
              "      <td>0.020784</td>\n",
              "      <td>0.252157</td>\n",
              "      <td>0.435294</td>\n",
              "      <td>0.016863</td>\n",
              "      <td>0.244314</td>\n",
              "      <td>0.432549</td>\n",
              "      <td>0.007843</td>\n",
              "      <td>0.239216</td>\n",
              "      <td>0.431373</td>\n",
              "      <td>0.007843</td>\n",
              "      <td>0.227451</td>\n",
              "      <td>0.427451</td>\n",
              "      <td>0.003922</td>\n",
              "      <td>0.209020</td>\n",
              "      <td>0.423529</td>\n",
              "      <td>0.000000</td>\n",
              "      <td>0.209020</td>\n",
              "      <td>0.416863</td>\n",
              "      <td>0.000000</td>\n",
              "      <td>0.220431</td>\n",
              "      <td>0.420431</td>\n",
              "      <td>0.000000</td>\n",
              "      <td>0.185765</td>\n",
              "      <td>0.407843</td>\n",
              "      <td>0.000000</td>\n",
              "      <td>0.164706</td>\n",
              "      <td>0.401176</td>\n",
              "      <td>0.000000</td>\n",
              "      <td>...</td>\n",
              "      <td>0.603922</td>\n",
              "      <td>0.603922</td>\n",
              "      <td>0.627451</td>\n",
              "      <td>0.597255</td>\n",
              "      <td>0.600000</td>\n",
              "      <td>0.627451</td>\n",
              "      <td>0.611765</td>\n",
              "      <td>0.607843</td>\n",
              "      <td>0.631373</td>\n",
              "      <td>0.615686</td>\n",
              "      <td>0.611765</td>\n",
              "      <td>0.631373</td>\n",
              "      <td>0.607843</td>\n",
              "      <td>0.603922</td>\n",
              "      <td>0.627451</td>\n",
              "      <td>0.609020</td>\n",
              "      <td>0.605098</td>\n",
              "      <td>0.628627</td>\n",
              "      <td>0.611765</td>\n",
              "      <td>0.607843</td>\n",
              "      <td>0.629922</td>\n",
              "      <td>0.607843</td>\n",
              "      <td>0.603922</td>\n",
              "      <td>0.623529</td>\n",
              "      <td>0.600000</td>\n",
              "      <td>0.596078</td>\n",
              "      <td>0.615686</td>\n",
              "      <td>0.592157</td>\n",
              "      <td>0.588235</td>\n",
              "      <td>0.607843</td>\n",
              "      <td>0.603922</td>\n",
              "      <td>0.600000</td>\n",
              "      <td>0.619608</td>\n",
              "      <td>0.596078</td>\n",
              "      <td>0.592157</td>\n",
              "      <td>0.614510</td>\n",
              "      <td>0.603922</td>\n",
              "      <td>0.600000</td>\n",
              "      <td>0.619608</td>\n",
              "      <td>motorcycle</td>\n",
              "    </tr>\n",
              "    <tr>\n",
              "      <th>2</th>\n",
              "      <td>0.784314</td>\n",
              "      <td>0.776471</td>\n",
              "      <td>0.800000</td>\n",
              "      <td>0.792157</td>\n",
              "      <td>0.784314</td>\n",
              "      <td>0.803922</td>\n",
              "      <td>0.800000</td>\n",
              "      <td>0.789059</td>\n",
              "      <td>0.807843</td>\n",
              "      <td>0.808255</td>\n",
              "      <td>0.792569</td>\n",
              "      <td>0.815686</td>\n",
              "      <td>0.819608</td>\n",
              "      <td>0.800000</td>\n",
              "      <td>0.819608</td>\n",
              "      <td>0.823529</td>\n",
              "      <td>0.800000</td>\n",
              "      <td>0.819608</td>\n",
              "      <td>0.827863</td>\n",
              "      <td>0.803922</td>\n",
              "      <td>0.823529</td>\n",
              "      <td>0.831373</td>\n",
              "      <td>0.807843</td>\n",
              "      <td>0.827451</td>\n",
              "      <td>0.835294</td>\n",
              "      <td>0.811765</td>\n",
              "      <td>0.831373</td>\n",
              "      <td>0.843137</td>\n",
              "      <td>0.819608</td>\n",
              "      <td>0.835294</td>\n",
              "      <td>0.843137</td>\n",
              "      <td>0.819608</td>\n",
              "      <td>0.835294</td>\n",
              "      <td>0.845510</td>\n",
              "      <td>0.823529</td>\n",
              "      <td>0.837255</td>\n",
              "      <td>0.847059</td>\n",
              "      <td>0.823529</td>\n",
              "      <td>0.843137</td>\n",
              "      <td>0.847882</td>\n",
              "      <td>...</td>\n",
              "      <td>0.878431</td>\n",
              "      <td>0.764706</td>\n",
              "      <td>0.670588</td>\n",
              "      <td>0.882765</td>\n",
              "      <td>0.776471</td>\n",
              "      <td>0.674510</td>\n",
              "      <td>0.892569</td>\n",
              "      <td>0.784314</td>\n",
              "      <td>0.686275</td>\n",
              "      <td>0.898039</td>\n",
              "      <td>0.796078</td>\n",
              "      <td>0.701549</td>\n",
              "      <td>0.898039</td>\n",
              "      <td>0.825078</td>\n",
              "      <td>0.751706</td>\n",
              "      <td>0.901961</td>\n",
              "      <td>0.854490</td>\n",
              "      <td>0.821882</td>\n",
              "      <td>0.909804</td>\n",
              "      <td>0.874098</td>\n",
              "      <td>0.869765</td>\n",
              "      <td>0.913725</td>\n",
              "      <td>0.882353</td>\n",
              "      <td>0.886275</td>\n",
              "      <td>0.917647</td>\n",
              "      <td>0.890196</td>\n",
              "      <td>0.895667</td>\n",
              "      <td>0.921569</td>\n",
              "      <td>0.890196</td>\n",
              "      <td>0.898039</td>\n",
              "      <td>0.921569</td>\n",
              "      <td>0.890196</td>\n",
              "      <td>0.898039</td>\n",
              "      <td>0.921569</td>\n",
              "      <td>0.887098</td>\n",
              "      <td>0.894118</td>\n",
              "      <td>0.902373</td>\n",
              "      <td>0.874510</td>\n",
              "      <td>0.890196</td>\n",
              "      <td>motorcycle</td>\n",
              "    </tr>\n",
              "    <tr>\n",
              "      <th>3</th>\n",
              "      <td>0.231373</td>\n",
              "      <td>0.231373</td>\n",
              "      <td>0.231373</td>\n",
              "      <td>0.231373</td>\n",
              "      <td>0.231373</td>\n",
              "      <td>0.231373</td>\n",
              "      <td>0.238235</td>\n",
              "      <td>0.238235</td>\n",
              "      <td>0.238235</td>\n",
              "      <td>0.243137</td>\n",
              "      <td>0.243137</td>\n",
              "      <td>0.243137</td>\n",
              "      <td>0.250980</td>\n",
              "      <td>0.250980</td>\n",
              "      <td>0.250980</td>\n",
              "      <td>0.263725</td>\n",
              "      <td>0.263725</td>\n",
              "      <td>0.263725</td>\n",
              "      <td>0.278431</td>\n",
              "      <td>0.278431</td>\n",
              "      <td>0.278431</td>\n",
              "      <td>0.294118</td>\n",
              "      <td>0.294118</td>\n",
              "      <td>0.294118</td>\n",
              "      <td>0.310784</td>\n",
              "      <td>0.310784</td>\n",
              "      <td>0.310784</td>\n",
              "      <td>0.331373</td>\n",
              "      <td>0.331373</td>\n",
              "      <td>0.331373</td>\n",
              "      <td>0.351961</td>\n",
              "      <td>0.351961</td>\n",
              "      <td>0.351961</td>\n",
              "      <td>0.374510</td>\n",
              "      <td>0.374510</td>\n",
              "      <td>0.374510</td>\n",
              "      <td>0.397059</td>\n",
              "      <td>0.397059</td>\n",
              "      <td>0.397059</td>\n",
              "      <td>0.421569</td>\n",
              "      <td>...</td>\n",
              "      <td>0.164706</td>\n",
              "      <td>0.150000</td>\n",
              "      <td>0.129412</td>\n",
              "      <td>0.152941</td>\n",
              "      <td>0.141176</td>\n",
              "      <td>0.121569</td>\n",
              "      <td>0.141176</td>\n",
              "      <td>0.129412</td>\n",
              "      <td>0.109804</td>\n",
              "      <td>0.121569</td>\n",
              "      <td>0.109804</td>\n",
              "      <td>0.090196</td>\n",
              "      <td>0.113725</td>\n",
              "      <td>0.101961</td>\n",
              "      <td>0.083333</td>\n",
              "      <td>0.123529</td>\n",
              "      <td>0.109804</td>\n",
              "      <td>0.094118</td>\n",
              "      <td>0.127451</td>\n",
              "      <td>0.113725</td>\n",
              "      <td>0.097059</td>\n",
              "      <td>0.121569</td>\n",
              "      <td>0.109804</td>\n",
              "      <td>0.090196</td>\n",
              "      <td>0.113725</td>\n",
              "      <td>0.100980</td>\n",
              "      <td>0.082353</td>\n",
              "      <td>0.113725</td>\n",
              "      <td>0.101961</td>\n",
              "      <td>0.082353</td>\n",
              "      <td>0.105882</td>\n",
              "      <td>0.094118</td>\n",
              "      <td>0.078431</td>\n",
              "      <td>0.101961</td>\n",
              "      <td>0.090196</td>\n",
              "      <td>0.074510</td>\n",
              "      <td>0.103922</td>\n",
              "      <td>0.094118</td>\n",
              "      <td>0.078431</td>\n",
              "      <td>motorcycle</td>\n",
              "    </tr>\n",
              "    <tr>\n",
              "      <th>4</th>\n",
              "      <td>0.585490</td>\n",
              "      <td>0.640392</td>\n",
              "      <td>0.810196</td>\n",
              "      <td>0.600000</td>\n",
              "      <td>0.650980</td>\n",
              "      <td>0.835294</td>\n",
              "      <td>0.618235</td>\n",
              "      <td>0.669804</td>\n",
              "      <td>0.840392</td>\n",
              "      <td>0.818824</td>\n",
              "      <td>0.858039</td>\n",
              "      <td>0.941569</td>\n",
              "      <td>0.773333</td>\n",
              "      <td>0.798863</td>\n",
              "      <td>0.906314</td>\n",
              "      <td>0.355686</td>\n",
              "      <td>0.377216</td>\n",
              "      <td>0.527059</td>\n",
              "      <td>0.316863</td>\n",
              "      <td>0.328902</td>\n",
              "      <td>0.458431</td>\n",
              "      <td>0.262745</td>\n",
              "      <td>0.280392</td>\n",
              "      <td>0.431961</td>\n",
              "      <td>0.359216</td>\n",
              "      <td>0.368235</td>\n",
              "      <td>0.521176</td>\n",
              "      <td>0.332980</td>\n",
              "      <td>0.336078</td>\n",
              "      <td>0.497686</td>\n",
              "      <td>0.426314</td>\n",
              "      <td>0.436431</td>\n",
              "      <td>0.605529</td>\n",
              "      <td>0.601569</td>\n",
              "      <td>0.621176</td>\n",
              "      <td>0.738824</td>\n",
              "      <td>0.621569</td>\n",
              "      <td>0.643725</td>\n",
              "      <td>0.835294</td>\n",
              "      <td>0.618431</td>\n",
              "      <td>...</td>\n",
              "      <td>0.533529</td>\n",
              "      <td>0.560980</td>\n",
              "      <td>0.736078</td>\n",
              "      <td>0.402353</td>\n",
              "      <td>0.429804</td>\n",
              "      <td>0.619216</td>\n",
              "      <td>0.397216</td>\n",
              "      <td>0.416471</td>\n",
              "      <td>0.590549</td>\n",
              "      <td>0.654078</td>\n",
              "      <td>0.687451</td>\n",
              "      <td>0.848235</td>\n",
              "      <td>0.790706</td>\n",
              "      <td>0.826275</td>\n",
              "      <td>0.964706</td>\n",
              "      <td>0.736667</td>\n",
              "      <td>0.764118</td>\n",
              "      <td>0.860196</td>\n",
              "      <td>0.741176</td>\n",
              "      <td>0.788235</td>\n",
              "      <td>0.941569</td>\n",
              "      <td>0.737255</td>\n",
              "      <td>0.792157</td>\n",
              "      <td>0.945098</td>\n",
              "      <td>0.752941</td>\n",
              "      <td>0.792157</td>\n",
              "      <td>0.945098</td>\n",
              "      <td>0.752941</td>\n",
              "      <td>0.788235</td>\n",
              "      <td>0.941176</td>\n",
              "      <td>0.752941</td>\n",
              "      <td>0.792157</td>\n",
              "      <td>0.941176</td>\n",
              "      <td>0.756863</td>\n",
              "      <td>0.800000</td>\n",
              "      <td>0.936863</td>\n",
              "      <td>0.741176</td>\n",
              "      <td>0.781569</td>\n",
              "      <td>0.917647</td>\n",
              "      <td>motorcycle</td>\n",
              "    </tr>\n",
              "  </tbody>\n",
              "</table>\n",
              "<p>5 rows × 7501 columns</p>\n",
              "</div>"
            ],
            "text/plain": [
              "          0         1         2  ...      7498      7499     Vehicle\n",
              "0  0.090941  0.153333  0.149765  ...  0.820784  0.721569  motorcycle\n",
              "1  0.086275  0.278431  0.447059  ...  0.600000  0.619608  motorcycle\n",
              "2  0.784314  0.776471  0.800000  ...  0.874510  0.890196  motorcycle\n",
              "3  0.231373  0.231373  0.231373  ...  0.094118  0.078431  motorcycle\n",
              "4  0.585490  0.640392  0.810196  ...  0.781569  0.917647  motorcycle\n",
              "\n",
              "[5 rows x 7501 columns]"
            ]
          },
          "metadata": {
            "tags": []
          },
          "execution_count": 3
        }
      ]
    },
    {
      "cell_type": "code",
      "metadata": {
        "id": "9xbDAE4U1PCv",
        "colab_type": "code",
        "colab": {}
      },
      "source": [
        "\n",
        "x = df.drop('Vehicle',axis=1).values\n",
        "y = df['Vehicle'].values"
      ],
      "execution_count": 4,
      "outputs": []
    },
    {
      "cell_type": "code",
      "metadata": {
        "id": "QW7IT07a1D0b",
        "colab_type": "code",
        "colab": {}
      },
      "source": [
        "x_train,x_test,y_train,y_test=train_test_split(x,y)"
      ],
      "execution_count": 5,
      "outputs": []
    },
    {
      "cell_type": "markdown",
      "metadata": {
        "id": "qFLvnEOG1VXI",
        "colab_type": "text"
      },
      "source": [
        "**CLASSIFICATION USING KNN ALGORITHM**\n"
      ]
    },
    {
      "cell_type": "code",
      "metadata": {
        "id": "wea2WGMk1Kg6",
        "colab_type": "code",
        "colab": {
          "base_uri": "https://localhost:8080/",
          "height": 221
        },
        "outputId": "843eeb3e-c590-4f34-e99d-54fc7d013ef2"
      },
      "source": [
        "param={'n_neighbors':np.arange(1,48)}\n",
        "model=KNeighborsClassifier()\n",
        "model_grid=GridSearchCV(model,param)\n",
        "model_grid.fit(x,y)"
      ],
      "execution_count": 12,
      "outputs": [
        {
          "output_type": "execute_result",
          "data": {
            "text/plain": [
              "GridSearchCV(cv=None, error_score=nan,\n",
              "             estimator=KNeighborsClassifier(algorithm='auto', leaf_size=30,\n",
              "                                            metric='minkowski',\n",
              "                                            metric_params=None, n_jobs=None,\n",
              "                                            n_neighbors=5, p=2,\n",
              "                                            weights='uniform'),\n",
              "             iid='deprecated', n_jobs=None,\n",
              "             param_grid={'n_neighbors': array([ 1,  2,  3,  4,  5,  6,  7,  8,  9, 10, 11, 12, 13, 14, 15, 16, 17,\n",
              "       18, 19, 20, 21, 22, 23, 24, 25, 26, 27, 28, 29, 30, 31, 32, 33, 34,\n",
              "       35, 36, 37, 38, 39, 40, 41, 42, 43, 44, 45, 46, 47])},\n",
              "             pre_dispatch='2*n_jobs', refit=True, return_train_score=False,\n",
              "             scoring=None, verbose=0)"
            ]
          },
          "metadata": {
            "tags": []
          },
          "execution_count": 12
        }
      ]
    },
    {
      "cell_type": "code",
      "metadata": {
        "id": "3Bri_29v1Yr6",
        "colab_type": "code",
        "colab": {
          "base_uri": "https://localhost:8080/",
          "height": 34
        },
        "outputId": "75403cf0-4369-4f69-e96a-77b2925bf760"
      },
      "source": [
        "model_grid.best_params_"
      ],
      "execution_count": 13,
      "outputs": [
        {
          "output_type": "execute_result",
          "data": {
            "text/plain": [
              "{'n_neighbors': 6}"
            ]
          },
          "metadata": {
            "tags": []
          },
          "execution_count": 13
        }
      ]
    },
    {
      "cell_type": "code",
      "metadata": {
        "id": "wmDDpDby1gSx",
        "colab_type": "code",
        "colab": {
          "base_uri": "https://localhost:8080/",
          "height": 68
        },
        "outputId": "980b6391-fbb7-46ae-c572-4ab63fde0080"
      },
      "source": [
        "model=KNeighborsClassifier(n_neighbors=6)\n",
        "model.fit(x_train,y_train)\n",
        "y_pred=model.predict(x_test)\n",
        "y_pred"
      ],
      "execution_count": 14,
      "outputs": [
        {
          "output_type": "execute_result",
          "data": {
            "text/plain": [
              "array(['motorcycle', 'motorcycle', 'car', 'car', 'motorcycle', 'car',\n",
              "       'motorcycle', 'motorcycle', 'motorcycle', 'car', 'car', 'car',\n",
              "       'car', 'car', 'car'], dtype=object)"
            ]
          },
          "metadata": {
            "tags": []
          },
          "execution_count": 14
        }
      ]
    },
    {
      "cell_type": "markdown",
      "metadata": {
        "id": "uev7fcu57Dkr",
        "colab_type": "text"
      },
      "source": [
        "**MODEL EVALUATION**"
      ]
    },
    {
      "cell_type": "code",
      "metadata": {
        "id": "zX0ANEuI7AYf",
        "colab_type": "code",
        "colab": {
          "base_uri": "https://localhost:8080/",
          "height": 34
        },
        "outputId": "4f8c1de0-0155-40c3-d88e-4fc97a4fe0fd"
      },
      "source": [
        "accuracy_score(y_pred,y_test)"
      ],
      "execution_count": 15,
      "outputs": [
        {
          "output_type": "execute_result",
          "data": {
            "text/plain": [
              "0.8"
            ]
          },
          "metadata": {
            "tags": []
          },
          "execution_count": 15
        }
      ]
    },
    {
      "cell_type": "code",
      "metadata": {
        "id": "Q_nOtF1g7MTX",
        "colab_type": "code",
        "colab": {
          "base_uri": "https://localhost:8080/",
          "height": 51
        },
        "outputId": "90a7b4bf-c76a-4eb2-c143-42256e9ce621"
      },
      "source": [
        "confusion_matrix(y_pred,y_test)"
      ],
      "execution_count": 16,
      "outputs": [
        {
          "output_type": "execute_result",
          "data": {
            "text/plain": [
              "array([[7, 2],\n",
              "       [1, 5]])"
            ]
          },
          "metadata": {
            "tags": []
          },
          "execution_count": 16
        }
      ]
    },
    {
      "cell_type": "code",
      "metadata": {
        "id": "mkRC-yqP7P66",
        "colab_type": "code",
        "colab": {
          "base_uri": "https://localhost:8080/",
          "height": 170
        },
        "outputId": "e32e4348-0212-4c43-daa0-4801f959f583"
      },
      "source": [
        "print(classification_report(y_pred,y_test))"
      ],
      "execution_count": 17,
      "outputs": [
        {
          "output_type": "stream",
          "text": [
            "              precision    recall  f1-score   support\n",
            "\n",
            "         car       0.88      0.78      0.82         9\n",
            "  motorcycle       0.71      0.83      0.77         6\n",
            "\n",
            "    accuracy                           0.80        15\n",
            "   macro avg       0.79      0.81      0.80        15\n",
            "weighted avg       0.81      0.80      0.80        15\n",
            "\n"
          ],
          "name": "stdout"
        }
      ]
    },
    {
      "cell_type": "markdown",
      "metadata": {
        "id": "j7bQD1G5772A",
        "colab_type": "text"
      },
      "source": [
        "**PREDICTION FOR NEW IMAGE**"
      ]
    },
    {
      "cell_type": "code",
      "metadata": {
        "id": "ustxIJYk7dyU",
        "colab_type": "code",
        "colab": {
          "base_uri": "https://localhost:8080/",
          "height": 34
        },
        "outputId": "c90dead4-4a4c-4c67-907c-4d449339b3bf"
      },
      "source": [
        "fd=[]\n",
        "i=imread('https://th.bing.com/th/id/OIP.2Ydv2KJEOhP5XRgECawRuQHaEK?w=303&h=180&c=7&o=5&pid=1.7')\n",
        "img_re=resize(i,(50,50,3))\n",
        "fd.append(img_re.flatten())\n",
        "y_pred = model.predict(fd)\n",
        "y_pred\n"
      ],
      "execution_count": 23,
      "outputs": [
        {
          "output_type": "execute_result",
          "data": {
            "text/plain": [
              "array(['car'], dtype=object)"
            ]
          },
          "metadata": {
            "tags": []
          },
          "execution_count": 23
        }
      ]
    },
    {
      "cell_type": "code",
      "metadata": {
        "id": "msm4pxzT8-EX",
        "colab_type": "code",
        "colab": {
          "base_uri": "https://localhost:8080/",
          "height": 34
        },
        "outputId": "847b44ca-aafa-477a-b3e6-ef2d7a86f4a6"
      },
      "source": [
        "fd=[]\n",
        "i=imread('https://th.bing.com/th/id/OIP.r7th5hV7h3oR4L5o4mB5hwHaEK?w=302&h=180&c=7&o=5&pid=1.7')\n",
        "img_re=resize(i,(50,50,3))\n",
        "fd.append(img_re.flatten())\n",
        "y_pred = model.predict(fd)\n",
        "y_pred"
      ],
      "execution_count": 19,
      "outputs": [
        {
          "output_type": "execute_result",
          "data": {
            "text/plain": [
              "array(['motorcycle'], dtype=object)"
            ]
          },
          "metadata": {
            "tags": []
          },
          "execution_count": 19
        }
      ]
    },
    {
      "cell_type": "code",
      "metadata": {
        "id": "KvggIhGc9siA",
        "colab_type": "code",
        "colab": {}
      },
      "source": [
        ""
      ],
      "execution_count": null,
      "outputs": []
    }
  ]
}